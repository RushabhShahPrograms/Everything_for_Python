{
 "cells": [
  {
   "cell_type": "markdown",
   "id": "4eca1224",
   "metadata": {},
   "source": [
    "# Input Output"
   ]
  },
  {
   "cell_type": "markdown",
   "id": "2c2db6b0",
   "metadata": {},
   "source": [
    "The file handling plays an important role when the data needs to be stored permanently \n",
    "into the file. A file is a named location on disk to store related information. We can \n",
    "access the stored information (non-volatile) after the program termination.\n",
    "\n",
    "\n",
    "The file-handling implementation is slightly lengthy or complicated in the other \n",
    "programming language, but it is easier and shorter in Python.\n",
    "\n",
    "\n",
    "In Python, files are treated in two modes as text or binary. The file may be in the text or \n",
    "binary format, and each line of a file is ended with the special character.\n",
    "Hence, a file operation can be done in the following order.\n",
    "\n",
    "o Open a file\n",
    "\n",
    "o Read or write - Performing operation\n",
    "\n",
    "o Close the file"
   ]
  },
  {
   "cell_type": "markdown",
   "id": "e12a0108",
   "metadata": {},
   "source": [
    "### Printing to the screen"
   ]
  },
  {
   "cell_type": "code",
   "execution_count": 1,
   "id": "db77fc67",
   "metadata": {},
   "outputs": [
    {
     "name": "stdout",
     "output_type": "stream",
     "text": [
      "Python is really a great language\n"
     ]
    }
   ],
   "source": [
    "print(\"Python is really a great language\")"
   ]
  },
  {
   "cell_type": "markdown",
   "id": "a77ccc6c",
   "metadata": {},
   "source": [
    "### Reading Keyboard Input"
   ]
  },
  {
   "cell_type": "markdown",
   "id": "6bd91aec",
   "metadata": {},
   "source": [
    "Python provides two built in functions to read a line of text from standard input, which by default comes from the keyboard.\n",
    "\n",
    "These functions are-\n",
    "\n",
    "1) raw_input (Does not support python 3)\n",
    "\n",
    "\n",
    "2) input"
   ]
  },
  {
   "cell_type": "code",
   "execution_count": 5,
   "id": "567ac88f",
   "metadata": {},
   "outputs": [
    {
     "ename": "NameError",
     "evalue": "name 'raw_input' is not defined",
     "output_type": "error",
     "traceback": [
      "\u001b[1;31m---------------------------------------------------------------------------\u001b[0m",
      "\u001b[1;31mNameError\u001b[0m                                 Traceback (most recent call last)",
      "\u001b[1;32m<ipython-input-5-69fbcef349fc>\u001b[0m in \u001b[0;36m<module>\u001b[1;34m\u001b[0m\n\u001b[0;32m      1\u001b[0m \u001b[1;31m#raw_input()\u001b[0m\u001b[1;33m\u001b[0m\u001b[1;33m\u001b[0m\u001b[1;33m\u001b[0m\u001b[0m\n\u001b[0;32m      2\u001b[0m \u001b[1;33m\u001b[0m\u001b[0m\n\u001b[1;32m----> 3\u001b[1;33m \u001b[0mstr\u001b[0m \u001b[1;33m=\u001b[0m \u001b[0mraw_input\u001b[0m\u001b[1;33m(\u001b[0m\u001b[1;34m\"Enter your input: \"\u001b[0m\u001b[1;33m)\u001b[0m\u001b[1;33m\u001b[0m\u001b[1;33m\u001b[0m\u001b[0m\n\u001b[0m\u001b[0;32m      4\u001b[0m \u001b[0mprint\u001b[0m\u001b[1;33m(\u001b[0m\u001b[1;34m\"Received input is: \"\u001b[0m\u001b[1;33m,\u001b[0m\u001b[0mstr\u001b[0m\u001b[1;33m)\u001b[0m\u001b[1;33m\u001b[0m\u001b[1;33m\u001b[0m\u001b[0m\n",
      "\u001b[1;31mNameError\u001b[0m: name 'raw_input' is not defined"
     ]
    }
   ],
   "source": [
    "#raw_input()\n",
    "\n",
    "str = raw_input(\"Enter your input: \")\n",
    "print(\"Received input is: \",str)"
   ]
  },
  {
   "cell_type": "markdown",
   "id": "5b459cda",
   "metadata": {},
   "source": [
    "### Opening and Closing Files"
   ]
  },
  {
   "cell_type": "markdown",
   "id": "ffeb878a",
   "metadata": {},
   "source": [
    "Until now, you have been reading and writing to the standard input and output. Now, we will see how to use actual data files. \n",
    "\n",
    "Python provides basic functions and methods necessary to manipulate files by default. You can do most of the file manipulation using a file object."
   ]
  },
  {
   "cell_type": "markdown",
   "id": "2b6bb27d",
   "metadata": {},
   "source": [
    "### The open Function"
   ]
  },
  {
   "cell_type": "markdown",
   "id": "693a074c",
   "metadata": {},
   "source": [
    "Before you can read or write a file, you have to open it using Python's built-in open function. This function creates a file object, which would be utilized to call other support methods associated with it.\n",
    "\n",
    "------------\n",
    "------------\n",
    "Syntax\n",
    "file object = open(file_name [, access_mode][, buffering])\n",
    "\n",
    "------------\n",
    "------------\n",
    "\n",
    "Here are parameter details -\n",
    "1) file_name: The file_name argument is a string value that contains the name of the file that you want to access. \n",
    "\n",
    "2) access_mode: The access_mode determines the mode in which the file has to be opened, i.e., read, write, append, etc. A complete list of possible values is given below in the table. This is optional parameter and the default file access mode is read (r).\n",
    "\n",
    "3) buffering: If the buffering value is set to 0, no buffering takes place. If the buffering value is 1, line buffering is performed while accessing a file. If you specify the buffering value as an integer greater than 1, then buffering action is performed with the indicated buffer size. If negative, the buffer size is the system default(default behavior)\n",
    "\n",
    "\n",
    "Here is a list of the different modes of opening a file -\n",
    "1) r -- Opens a file for reading only. The file pointer is placed at the beginning of the file. This is the default mode.\n",
    "\n",
    "2) rb -- Opens a file for reading only in binary format. The file pointer is placed at the beginning of the file. This is the default mode.\n",
    "\n",
    "3) r+ -- Opens a file for both reading and writing. The file pointer placed at the beginning of the file.\n",
    "\n",
    "4) rb+ -- Opens a file for both reading and writing in binary format. The file pointer placed at the beginning of the file.\n",
    "\n",
    "5) w -- Opens a file for writing only. Overwrites the file if the file exists. If the file does not exist, creates a new file for writing.\n",
    "\n",
    "6) wb -- Opens a file for writing only in binary format. Overwrites the file if the file exists. If the file does not exist, creates a new file for writing.\n",
    "\n",
    "7) w+ -- Opens a file for both writing and reading. Overwrites the existing file if the file exists. If the file does not exist, creates a new file for reading and writing\n",
    "\n",
    "8) wb+ -- Opens a file for both writing and reading in binary format. Overwrites the existing file if the file exists. If the file does not exist, creates a new file for reading and writing.\n",
    "\n",
    "9) a -- Opens a file for appending. The file pointer is at the end of the file if the file exists. That is, the file is in the append mode. If the file does not exist, it creates a new file for writing.\n",
    "10) ab -- Opens a file for appending in binary format. The file pointer is at the end of the file if the file exists. That is, the file is in the append mode. If the file does not exist, it creates a new file for writing.\n",
    "11) a+ -- Opens a file for both appending and reading. The file pointer is at the end of the file if the file exists. The file opens in the append mode. If the file does not exist, it creates a new file for reading and writing\n",
    "12) ab+ -- Opens a file for both appending and reading in binary format. The file pointer is at the end of the file if the file exists. The file opens in the append mode. If the file does not exist, it creates a new file for reading and writing"
   ]
  },
  {
   "cell_type": "markdown",
   "id": "735e96c3",
   "metadata": {},
   "source": [
    "### The file object attributes"
   ]
  },
  {
   "cell_type": "markdown",
   "id": "6a66f312",
   "metadata": {},
   "source": [
    "Once a file is opened and you have one file object, you can get various information related to that file. \n",
    "\n",
    "Here is a list of all attributes related to file object -\n",
    "\n",
    "1) file.closed: Returns true if file is closed, false otherwise.\n",
    "\n",
    "2) file.mode: Returns access mode with which file was opened\n",
    "\n",
    "3) file.name: Returns name of the file.\n",
    "\n",
    "4) file.softspace: Returns false if space explicitly required with print, true otherwise."
   ]
  },
  {
   "cell_type": "code",
   "execution_count": 6,
   "id": "ead1e45b",
   "metadata": {},
   "outputs": [
    {
     "name": "stdout",
     "output_type": "stream",
     "text": [
      "Name of the file: file_io.txt\n",
      "Closed or not: False\n",
      "Opening mode: w\n"
     ]
    }
   ],
   "source": [
    "f = open(\"file_io.txt\",\"w\")\n",
    "print(\"Name of the file:\",f.name)\n",
    "print(\"Closed or not:\",f.closed)\n",
    "print(\"Opening mode:\",f.mode)"
   ]
  },
  {
   "cell_type": "markdown",
   "id": "f900d829",
   "metadata": {},
   "source": [
    "### The close() Method"
   ]
  },
  {
   "cell_type": "markdown",
   "id": "7ba7b3ab",
   "metadata": {},
   "source": [
    "The close() method of a file object flushes any unwritten information and closes the file object, after which no more writing can be done.\n",
    "\n",
    "Python automatically closes a file when the reference object of a file is reassigned to another file. It is a good practice to use the close() method to close a file\n",
    "\n",
    "\n",
    "Syntax: fileObject.close()"
   ]
  },
  {
   "cell_type": "code",
   "execution_count": 8,
   "id": "c8e3922b",
   "metadata": {},
   "outputs": [
    {
     "name": "stdout",
     "output_type": "stream",
     "text": [
      "Name of the file: file_io.txt\n"
     ]
    }
   ],
   "source": [
    "# Open a file\n",
    "f = open(\"file_io.txt\", \"w\")\n",
    "print (\"Name of the file:\", f.name)\n",
    "\n",
    "# Close opend file \n",
    "f.close()"
   ]
  },
  {
   "cell_type": "markdown",
   "id": "4bd7b653",
   "metadata": {},
   "source": [
    "### Reading and Writing Files"
   ]
  },
  {
   "cell_type": "markdown",
   "id": "c195e696",
   "metadata": {},
   "source": [
    "The file object provides a set of access methods to make our lives easier. We would see how to use read() and write() methods to read and write files\n",
    "\n",
    "### The write() Method\n",
    "\n",
    "The write() method writes any string to an open file. It is important to note that Python strings can have binary data and not just text. \n",
    "The write() method does not add a newline character ('\\n') to the end of the string -\n",
    "\n",
    "Syntax:  fileObject.write(string)"
   ]
  },
  {
   "cell_type": "code",
   "execution_count": 1,
   "id": "6dc1a100",
   "metadata": {},
   "outputs": [
    {
     "name": "stdout",
     "output_type": "stream",
     "text": [
      "done\n"
     ]
    }
   ],
   "source": [
    "# Open a file\n",
    "f = open(\"file_io.txt\", \"w\")\n",
    "f.write(\"hello python\")\n",
    "print(\"done\")\n",
    "\n",
    "#close opened file\n",
    "f.close()"
   ]
  },
  {
   "cell_type": "markdown",
   "id": "721cdf82",
   "metadata": {},
   "source": [
    "### Read()"
   ]
  },
  {
   "cell_type": "markdown",
   "id": "90675acd",
   "metadata": {},
   "source": [
    "The read() method reads a string from an open file. It is important to note that Python strings can have binary data. Apart from text data.\n",
    "\n",
    "Syntax: fileObject.read([count])\n",
    "\n",
    "Here, passed parameter is the number of bytes to be read from the opened file. This method starts reading from the beginning of the file and if count is missing, then it tries to read as much as possible, maybe until the end of file."
   ]
  },
  {
   "cell_type": "code",
   "execution_count": 1,
   "id": "24b7d2b9",
   "metadata": {},
   "outputs": [
    {
     "name": "stdout",
     "output_type": "stream",
     "text": [
      "Read String is:  hello python\n"
     ]
    }
   ],
   "source": [
    "# Open a file\n",
    "f = open(\"file_io.txt\", \"r+\")\n",
    "str=f.read();\n",
    "print(\"Read String is: \",str)\n",
    "\n",
    "#closed opened file\n",
    "f.close()"
   ]
  },
  {
   "cell_type": "code",
   "execution_count": 2,
   "id": "07468e57",
   "metadata": {},
   "outputs": [
    {
     "name": "stdout",
     "output_type": "stream",
     "text": [
      "Read String is:  hello pyth\n"
     ]
    }
   ],
   "source": [
    "# Open a file\n",
    "f = open(\"file_io.txt\", \"r+\")\n",
    "str=f.read(10);\n",
    "print(\"Read String is: \",str)\n",
    "\n",
    "#closed opened file\n",
    "f.close()"
   ]
  },
  {
   "cell_type": "markdown",
   "id": "3bb10857",
   "metadata": {},
   "source": [
    "### File Position"
   ]
  },
  {
   "cell_type": "markdown",
   "id": "30167f94",
   "metadata": {},
   "source": [
    "The tell() method tells you the current position within the file; in others words, the next read or write will occur at that many bytes from the beginning of the file.\n",
    "\n",
    "The seek(offset[, from]) method changes the current file position. The 'offset' argument indicates the number of bytes to be moved. The 'from' arguments specifies the reference position from where the bytes are to be moved.\n",
    "\n",
    "If 'from' is set to 0, it means use the beginning of the file as the reference position and 1 means use the current position as the reference position and if it is set to 2 then the end of the file would be taken as the reference position."
   ]
  },
  {
   "cell_type": "code",
   "execution_count": 3,
   "id": "274b3934",
   "metadata": {},
   "outputs": [
    {
     "name": "stdout",
     "output_type": "stream",
     "text": [
      "Read String is:  hello python\n",
      "Current file position:  12\n",
      "Again read string is:  \n"
     ]
    }
   ],
   "source": [
    "# Open a file\n",
    "f = open(\"file_io.txt\", \"r+\")\n",
    "str=f.read();\n",
    "print(\"Read String is: \",str)\n",
    "\n",
    "#check current position\n",
    "position = f.tell()\n",
    "print(\"Current file position: \",position)\n",
    "\n",
    "#Reposition pointer at the beginning once again\n",
    "#position = f.seek(0,0);\n",
    "str=f.read()\n",
    "print(\"Again read string is: \",str)\n",
    "#closed opened file\n",
    "f.close()"
   ]
  },
  {
   "cell_type": "markdown",
   "id": "4f3b898a",
   "metadata": {},
   "source": [
    "## Python - OS Module"
   ]
  },
  {
   "cell_type": "markdown",
   "id": "962f129f",
   "metadata": {},
   "source": [
    "It is possible to automatically perform many operating system tasks. The OS module in Python provides functions for creating and removing a directory(folder), fetching its contents, changing and identifying the current directory, etc.\n",
    "\n",
    "You first need to import the 'os' module to interact with the underlying  operating system. So, import it using the import os statement before using its functions.\n",
    "\n",
    "### Directories in Python\n",
    "\n",
    "All files are contained within varoius directories and Python has no problem handling these too. The os module has several methods that helps you create, remove, and change directories.\n",
    "\n",
    "1) The mkdir() method\n",
    "\n",
    "2) The chdir() method\n",
    "\n",
    "3) The getcwd() method\n",
    "\n",
    "4) The rmdir() method"
   ]
  },
  {
   "cell_type": "markdown",
   "id": "c8a04b21",
   "metadata": {},
   "source": [
    "### os.mkdir()"
   ]
  },
  {
   "cell_type": "markdown",
   "id": "c775a70f",
   "metadata": {},
   "source": [
    "The os.mkdir() function is used to create new directory"
   ]
  },
  {
   "cell_type": "code",
   "execution_count": 1,
   "id": "966234d8",
   "metadata": {},
   "outputs": [
    {
     "name": "stdout",
     "output_type": "stream",
     "text": [
      "done\n"
     ]
    }
   ],
   "source": [
    "import os\n",
    "os.mkdir(\"c:\\\\Users\\\\RUSHABH\\\\Python Programs\\\\Data of ACT\\\\newdir\")\n",
    "print(\"done\")"
   ]
  },
  {
   "cell_type": "markdown",
   "id": "1ec31478",
   "metadata": {},
   "source": [
    "### os.chdir()"
   ]
  },
  {
   "cell_type": "markdown",
   "id": "a4bf982f",
   "metadata": {},
   "source": [
    "You can use the chdir() method to change the current directory. The chdir() method takes an argument, which is the name of the directory that you want to make the current directory.\n",
    "\n",
    "Syntax: os.chdir(\"newdir\")"
   ]
  },
  {
   "cell_type": "code",
   "execution_count": 2,
   "id": "cc33a9ed",
   "metadata": {},
   "outputs": [
    {
     "name": "stdout",
     "output_type": "stream",
     "text": [
      "done\n"
     ]
    }
   ],
   "source": [
    "import os\n",
    "os.chdir(\"newdir\")\n",
    "print(\"done\")"
   ]
  },
  {
   "cell_type": "markdown",
   "id": "c87bd9fc",
   "metadata": {},
   "source": [
    "### getcwd()"
   ]
  },
  {
   "cell_type": "markdown",
   "id": "b995c950",
   "metadata": {},
   "source": [
    "The getcwd() method displays the current working directory\n",
    "\n",
    "Syntax: os.getcwd()"
   ]
  },
  {
   "cell_type": "code",
   "execution_count": 3,
   "id": "29b16e0a",
   "metadata": {},
   "outputs": [
    {
     "data": {
      "text/plain": [
       "'C:\\\\Users\\\\RUSHABH\\\\Python Programs\\\\Data of ACT\\\\newdir'"
      ]
     },
     "execution_count": 3,
     "metadata": {},
     "output_type": "execute_result"
    }
   ],
   "source": [
    "import os\n",
    "os.getcwd()"
   ]
  },
  {
   "cell_type": "markdown",
   "id": "4a6079ac",
   "metadata": {},
   "source": [
    "### rmdir()"
   ]
  },
  {
   "cell_type": "markdown",
   "id": "36670580",
   "metadata": {},
   "source": [
    "The rmdir() method deletes the directory, which is passed as an argument in the method. Before removing a directory, all the contents in it should be removed.\n",
    "\n",
    "Syntax:  os.remdir('dirname')"
   ]
  },
  {
   "cell_type": "code",
   "execution_count": 4,
   "id": "0ba825d7",
   "metadata": {},
   "outputs": [
    {
     "ename": "FileNotFoundError",
     "evalue": "[WinError 2] The system cannot find the file specified: 'newdir'",
     "output_type": "error",
     "traceback": [
      "\u001b[1;31m---------------------------------------------------------------------------\u001b[0m",
      "\u001b[1;31mFileNotFoundError\u001b[0m                         Traceback (most recent call last)",
      "\u001b[1;32m<ipython-input-4-bd2c6e215097>\u001b[0m in \u001b[0;36m<module>\u001b[1;34m\u001b[0m\n\u001b[0;32m      1\u001b[0m \u001b[1;32mimport\u001b[0m \u001b[0mos\u001b[0m\u001b[1;33m\u001b[0m\u001b[1;33m\u001b[0m\u001b[0m\n\u001b[1;32m----> 2\u001b[1;33m \u001b[0mos\u001b[0m\u001b[1;33m.\u001b[0m\u001b[0mrmdir\u001b[0m\u001b[1;33m(\u001b[0m\u001b[1;34m\"newdir\"\u001b[0m\u001b[1;33m)\u001b[0m\u001b[1;33m\u001b[0m\u001b[1;33m\u001b[0m\u001b[0m\n\u001b[0m\u001b[0;32m      3\u001b[0m \u001b[0mprint\u001b[0m\u001b[1;33m(\u001b[0m\u001b[1;34m\"done\"\u001b[0m\u001b[1;33m)\u001b[0m\u001b[1;33m\u001b[0m\u001b[1;33m\u001b[0m\u001b[0m\n",
      "\u001b[1;31mFileNotFoundError\u001b[0m: [WinError 2] The system cannot find the file specified: 'newdir'"
     ]
    }
   ],
   "source": [
    "import os\n",
    "os.rmdir(\"newdir\")\n",
    "print(\"done\")"
   ]
  },
  {
   "cell_type": "code",
   "execution_count": null,
   "id": "8aeb13c3",
   "metadata": {},
   "outputs": [],
   "source": []
  }
 ],
 "metadata": {
  "kernelspec": {
   "display_name": "Python 3",
   "language": "python",
   "name": "python3"
  },
  "language_info": {
   "codemirror_mode": {
    "name": "ipython",
    "version": 3
   },
   "file_extension": ".py",
   "mimetype": "text/x-python",
   "name": "python",
   "nbconvert_exporter": "python",
   "pygments_lexer": "ipython3",
   "version": "3.8.8"
  }
 },
 "nbformat": 4,
 "nbformat_minor": 5
}
