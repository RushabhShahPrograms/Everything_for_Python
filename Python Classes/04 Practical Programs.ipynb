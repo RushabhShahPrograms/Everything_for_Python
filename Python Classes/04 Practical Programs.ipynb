{
 "cells": [
  {
   "cell_type": "markdown",
   "id": "0a0fde4e",
   "metadata": {},
   "source": [
    "### Que: 1\n",
    "Pangrams are words or sentences containing every letter of the alphabet at least once. A student is asked to check whether a string is a pangram or not. Help him to do so.\n",
    "\n",
    "For example: \"The quick brown fox jumps over the lazy dog\"."
   ]
  },
  {
   "cell_type": "code",
   "execution_count": 2,
   "id": "45e245b2",
   "metadata": {},
   "outputs": [
    {
     "name": "stdout",
     "output_type": "stream",
     "text": [
      "Yes\n"
     ]
    }
   ],
   "source": [
    "import string\n",
    "def ispangram(str):\n",
    "    alphabet = \"abcdefghijklmnopqrstuvwxyz\"\n",
    "    for char in alphabet:\n",
    "        if char not in str.lower():\n",
    "            return False\n",
    "    return True\n",
    "# main\n",
    "\n",
    "string = 'The five boxing wizards jump quickly.'\n",
    "if(ispangram(string) == True):\n",
    "    print(\"Yes\")\n",
    "else:\n",
    "    print(\"No\")"
   ]
  },
  {
   "cell_type": "markdown",
   "id": "2441df29",
   "metadata": {},
   "source": [
    "### Que: 2\n",
    "Given a matrix with N rows and M columns, the task is to check if the matrix is a Binary Matrix. A binary matrix is a matrix in which all the elements are either 0 or\n",
    "\n",
    "Input Format: The first line of the input contains two integer number N and M which represents the number of rows and the number of columns respectively, separated by a space. From the second line, take N lines input with each line containing M integer elements with each element separated by a space (not compulsory). \n",
    "    \n",
    "   \n",
    "Output Format: Print 'YES' or 'NO' accordingly"
   ]
  },
  {
   "cell_type": "code",
   "execution_count": 34,
   "id": "e84ba6b3",
   "metadata": {},
   "outputs": [
    {
     "name": "stdout",
     "output_type": "stream",
     "text": [
      "3\n",
      "4\n",
      "1 0 0 0\n",
      "1 1 1 0\n",
      "0 0 1 0\n",
      "Yes\n"
     ]
    }
   ],
   "source": [
    "def isBinaryMatrix(m, n, matrix):\n",
    "    for i in range(m):\n",
    "        for j in range(n):\n",
    "            if((matrix[i][j]==0 or matrix[i][j]==1)==False):\n",
    "                return False\n",
    "    return True\n",
    "    \n",
    "    \n",
    "#Driver Code\n",
    "m=int(input())\n",
    "n=int(input())\n",
    "matrix=[0]*n\n",
    "for i in range(m):\n",
    "    matrix[i]=list(map(int, input().split()))[:n]\n",
    "\n",
    "if(isBinaryMatrix(m, n, matrix)==True):\n",
    "    print(\"Yes\")\n",
    "else:\n",
    "    print(\"NO\")"
   ]
  },
  {
   "cell_type": "markdown",
   "id": "4ec4b10e",
   "metadata": {},
   "source": [
    "### Que: 3 \n",
    "An income tax assistant wants to calculate income tax for the given income by adhering to the below rules:\n",
    "\n",
    "First 10,000 --> 0% Interest Rate \n",
    "\n",
    "next 10,000 -> 10% Interest Rate \n",
    "\n",
    "Remaining -> 20% Interest Rate\n",
    "\n",
    "\n",
    "Expected Output: \n",
    "\n",
    "For example, suppose that the taxable income is 45000 the income tax payable is \n",
    "\n",
    "100000% + 1000010% + 25000*20% = 6000"
   ]
  },
  {
   "cell_type": "code",
   "execution_count": 1,
   "id": "733fcd98",
   "metadata": {},
   "outputs": [
    {
     "name": "stdout",
     "output_type": "stream",
     "text": [
      "Total tax: 7000\n"
     ]
    }
   ],
   "source": [
    "income=45000\n",
    "        \n",
    "if income == 10000:\n",
    "    tax = 0\n",
    "elif income == 10000:\n",
    "    tax = (income-10000)*0.10\n",
    "else:\n",
    "    tax = (income-10000)*0.20\n",
    "print(\"Total tax:\",int(tax))"
   ]
  },
  {
   "cell_type": "markdown",
   "id": "81ea4447",
   "metadata": {},
   "source": [
    "### Extra\n",
    "\n",
    "A bank needs to validate authentication of the customers who have their accounts in it via functions. Verification has to be done by analyzing the details entered by the customers (Like Name, Address, contact no, Pin code, Hobbies, Life goal).\n",
    "\n",
    "\n",
    "a)Bank should identify whether the details provided by customer are correct\n",
    "or not? By Creating multiple user account and user name \n",
    "\n",
    "b)Also depending on user age details, it should provide the future savings schemes. \n",
    "\n",
    "If age of kid guide for education camps schemes, if teenager provide educational scholarship scheme and is middle aged guide for retirement plans."
   ]
  },
  {
   "cell_type": "code",
   "execution_count": 21,
   "id": "c8dd14f3",
   "metadata": {},
   "outputs": [
    {
     "name": "stdout",
     "output_type": "stream",
     "text": [
      "Enter name: rushabh\n",
      "Enter the age: 21\n",
      "Enter address: ohio\n",
      "Enter contact number: 1234567890\n",
      "Enter the pin code: 22334\n",
      "Enter the 3 hobbies: yt,sport,xyz\n",
      "Enter the life goal: earning man\n",
      "match found\n",
      " {'name': 'rushabh', 'age': 21, 'address': 'ohio', 'contact_number': 1234567890, 'pincode': 22334, 'hobbies': ['yt', 'sport', 'xyz'], 'life_goal': 'earning man'}\n",
      "\n",
      "\n",
      "visit our educational scholarship scheme\n"
     ]
    }
   ],
   "source": [
    "#User\n",
    "name=input(\"Enter name: \")\n",
    "age=int(input(\"Enter the age: \"))\n",
    "address=input(\"Enter address: \")\n",
    "contact_number=int(input(\"Enter contact number: \"))\n",
    "pincode=int(input(\"Enter the pin code: \"))\n",
    "hobbies=input(\"Enter the 3 hobbies: \").split(',')[:3]\n",
    "life_goal=input(\"Enter the life goal: \")\n",
    "\n",
    "user1 = {'name':name,'age':age,'address':address,\n",
    "         'contact_number':contact_number,\n",
    "         'pincode':pincode,'hobbies':hobbies,'life_goal':life_goal}\n",
    "\n",
    "\n",
    "\n",
    "#Bank validate the authentication\n",
    "account20 = {'name':'rushabh','age':21,'address':'ohio',\n",
    "         'contact_number':1234567890,\n",
    "         'pincode':22334,'hobbies':['yt','sport','xyz'],\n",
    "             'life_goal':'earning man'}\n",
    "\n",
    "account21 = {'name':'twf','age':61,'address':'tokyo',\n",
    "         'contact_number':1277767890,\n",
    "         'pincode':22104,'hobbies':['dfdfdytttry','spohjfrt','xyzdf'],\n",
    "             'life_goal':'man'}\n",
    "\n",
    "account22 = {'name':'r','age':11,'address':'stoo',\n",
    "         'contact_number':1232566890,\n",
    "         'pincode':20334,'hobbies':['yft','spoon','xyrez'],\n",
    "             'life_goal':'twq'}\n",
    "\n",
    "print(\"\\n\")\n",
    "#bank matches user and account\n",
    "if(account20 == user1):\n",
    "    print(\"match found\\n\",account20)\n",
    "    print(\"\\n\")\n",
    "                                #checking age\n",
    "    if(age<=18):\n",
    "        print(\"visit our education camps schemes\")\n",
    "    elif(age>18 or age<35):\n",
    "        print(\"visit our educational scholarship scheme\")\n",
    "    else:\n",
    "        print(\"visit our retirement plans\")\n",
    "                                #age checked\n",
    "elif(account21==user1):\n",
    "    print(\"match found\\n\",account21)\n",
    "    print(\"\\n\")\n",
    "                                #checking age\n",
    "    if(age<=18):\n",
    "        print(\"visit our education camps schemes\")\n",
    "    elif(age>18 or age<35):\n",
    "        print(\"visit our educational scholarship scheme\")\n",
    "    else:\n",
    "        print(\"visit our retirement plans\")\n",
    "                                #age checked\n",
    "elif(account22==user1):\n",
    "    print(\"match found\\n\",account22)\n",
    "    print(\"\\n\")\n",
    "                            #checking age\n",
    "    if(age<=18):\n",
    "        print(\"visit our education camps schemes\")\n",
    "    elif(age>18 or age<35):\n",
    "        print(\"visit our educational scholarship scheme\")\n",
    "    else:\n",
    "        print(\"visit our retirement plans\")\n",
    "                            #age checked\n",
    "else:\n",
    "    print(\"no match found enter valid things\")\n",
    "    \n"
   ]
  },
  {
   "cell_type": "code",
   "execution_count": null,
   "id": "4120f618",
   "metadata": {},
   "outputs": [],
   "source": []
  }
 ],
 "metadata": {
  "kernelspec": {
   "display_name": "Python 3",
   "language": "python",
   "name": "python3"
  },
  "language_info": {
   "codemirror_mode": {
    "name": "ipython",
    "version": 3
   },
   "file_extension": ".py",
   "mimetype": "text/x-python",
   "name": "python",
   "nbconvert_exporter": "python",
   "pygments_lexer": "ipython3",
   "version": "3.8.8"
  }
 },
 "nbformat": 4,
 "nbformat_minor": 5
}
