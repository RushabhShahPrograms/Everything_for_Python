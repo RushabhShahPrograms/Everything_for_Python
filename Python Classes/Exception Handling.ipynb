{
 "cells": [
  {
   "cell_type": "markdown",
   "id": "233cc19a",
   "metadata": {},
   "source": [
    "### Without Exception"
   ]
  },
  {
   "cell_type": "code",
   "execution_count": 1,
   "id": "cabde8b8",
   "metadata": {},
   "outputs": [
    {
     "name": "stdout",
     "output_type": "stream",
     "text": [
      "Enter a: 10\n",
      "Enter b: 0\n"
     ]
    },
    {
     "ename": "ZeroDivisionError",
     "evalue": "division by zero",
     "output_type": "error",
     "traceback": [
      "\u001b[1;31m---------------------------------------------------------------------------\u001b[0m",
      "\u001b[1;31mZeroDivisionError\u001b[0m                         Traceback (most recent call last)",
      "\u001b[1;32m<ipython-input-1-b85fd6a0a54d>\u001b[0m in \u001b[0;36m<module>\u001b[1;34m\u001b[0m\n\u001b[0;32m      1\u001b[0m \u001b[0ma\u001b[0m \u001b[1;33m=\u001b[0m \u001b[0mint\u001b[0m\u001b[1;33m(\u001b[0m\u001b[0minput\u001b[0m\u001b[1;33m(\u001b[0m\u001b[1;34m\"Enter a: \"\u001b[0m\u001b[1;33m)\u001b[0m\u001b[1;33m)\u001b[0m\u001b[1;33m\u001b[0m\u001b[1;33m\u001b[0m\u001b[0m\n\u001b[0;32m      2\u001b[0m \u001b[0mb\u001b[0m \u001b[1;33m=\u001b[0m \u001b[0mint\u001b[0m\u001b[1;33m(\u001b[0m\u001b[0minput\u001b[0m\u001b[1;33m(\u001b[0m\u001b[1;34m\"Enter b: \"\u001b[0m\u001b[1;33m)\u001b[0m\u001b[1;33m)\u001b[0m\u001b[1;33m\u001b[0m\u001b[1;33m\u001b[0m\u001b[0m\n\u001b[1;32m----> 3\u001b[1;33m \u001b[0mc\u001b[0m \u001b[1;33m=\u001b[0m \u001b[0ma\u001b[0m\u001b[1;33m/\u001b[0m\u001b[0mb\u001b[0m\u001b[1;33m\u001b[0m\u001b[1;33m\u001b[0m\u001b[0m\n\u001b[0m\u001b[0;32m      4\u001b[0m \u001b[0mprintf\u001b[0m\u001b[1;33m(\u001b[0m\u001b[1;34m\"a/b = %d\"\u001b[0m\u001b[1;33m%\u001b[0m\u001b[0mc\u001b[0m\u001b[1;33m)\u001b[0m\u001b[1;33m\u001b[0m\u001b[1;33m\u001b[0m\u001b[0m\n",
      "\u001b[1;31mZeroDivisionError\u001b[0m: division by zero"
     ]
    }
   ],
   "source": [
    "a = int(input(\"Enter a: \"))\n",
    "b = int(input(\"Enter b: \"))\n",
    "c = a/b\n",
    "printf(\"a/b = %d\"%c)"
   ]
  },
  {
   "cell_type": "markdown",
   "id": "f599ec33",
   "metadata": {},
   "source": [
    "### Without Exception"
   ]
  },
  {
   "cell_type": "code",
   "execution_count": 2,
   "id": "1e2fe38f",
   "metadata": {},
   "outputs": [
    {
     "name": "stdout",
     "output_type": "stream",
     "text": [
      "Enter a: 10\n",
      "Enter b: 0\n",
      "Can't divide wih zero\n"
     ]
    }
   ],
   "source": [
    "try:\n",
    "    a = int(input(\"Enter a: \"))\n",
    "    b = int(input(\"Enter b: \"))\n",
    "    c = a/b\n",
    "    print(c)\n",
    "except:\n",
    "    print(\"Can't divide wih zero\")"
   ]
  },
  {
   "cell_type": "markdown",
   "id": "c2185bb6",
   "metadata": {},
   "source": [
    "### Else block"
   ]
  },
  {
   "cell_type": "code",
   "execution_count": 3,
   "id": "9f37e6b3",
   "metadata": {},
   "outputs": [
    {
     "name": "stdout",
     "output_type": "stream",
     "text": [
      "Enter a: 10\n",
      "Enter b: 0\n",
      "Can't divide wih zero\n",
      "<class 'Exception'>\n"
     ]
    }
   ],
   "source": [
    "try:\n",
    "    a = int(input(\"Enter a: \"))\n",
    "    b = int(input(\"Enter b: \"))\n",
    "    c = a/b\n",
    "    print(c)\n",
    "except Exception:\n",
    "    print(\"Can't divide wih zero\")\n",
    "    print(Exception)\n",
    "else:\n",
    "    print(\"else block\")"
   ]
  },
  {
   "cell_type": "markdown",
   "id": "7c7a1420",
   "metadata": {},
   "source": [
    "### As object"
   ]
  },
  {
   "cell_type": "code",
   "execution_count": 4,
   "id": "b28ff94d",
   "metadata": {},
   "outputs": [
    {
     "name": "stdout",
     "output_type": "stream",
     "text": [
      "Enter a: 10\n",
      "Enter b: 0\n",
      "Can't divide wih zero\n",
      "division by zero\n"
     ]
    }
   ],
   "source": [
    "try:\n",
    "    a = int(input(\"Enter a: \"))\n",
    "    b = int(input(\"Enter b: \"))\n",
    "    c = a/b\n",
    "    print(c)\n",
    "except Exception as e:\n",
    "    print(\"Can't divide wih zero\")\n",
    "    print(e)\n",
    "else:\n",
    "    print(\"else block\")"
   ]
  },
  {
   "cell_type": "markdown",
   "id": "7eb261b4",
   "metadata": {},
   "source": [
    "### IO Error "
   ]
  },
  {
   "cell_type": "code",
   "execution_count": 5,
   "id": "fe1a9b83",
   "metadata": {},
   "outputs": [
    {
     "name": "stdout",
     "output_type": "stream",
     "text": [
      "file not found\n"
     ]
    }
   ],
   "source": [
    "try:\n",
    "    fi = open(\"file.txt\",\"r\")\n",
    "except IOError:\n",
    "    print(\"file not found\")\n",
    "else:\n",
    "    print(\"the file opened successfully\")\n",
    "    fi.close()"
   ]
  },
  {
   "cell_type": "markdown",
   "id": "9c26531b",
   "metadata": {},
   "source": [
    "### Multiple Exception"
   ]
  },
  {
   "cell_type": "code",
   "execution_count": 6,
   "id": "669831a7",
   "metadata": {},
   "outputs": [
    {
     "name": "stdout",
     "output_type": "stream",
     "text": [
      "Arithmetic Exception\n"
     ]
    }
   ],
   "source": [
    "try:\n",
    "    a=10/0\n",
    "except(ArithmeticError, IOError):\n",
    "    print(\"Arithmetic Exception\")\n",
    "else:\n",
    "    print(\"Successfully done\")"
   ]
  },
  {
   "cell_type": "markdown",
   "id": "690de769",
   "metadata": {},
   "source": [
    "### Finally Block"
   ]
  },
  {
   "cell_type": "code",
   "execution_count": 7,
   "id": "b50305fd",
   "metadata": {},
   "outputs": [
    {
     "name": "stdout",
     "output_type": "stream",
     "text": [
      "error\n"
     ]
    }
   ],
   "source": [
    "try:\n",
    "    fi = open(\"file.txt\",\"r\")\n",
    "    try:\n",
    "        fi.write(\"hello\")\n",
    "    finally:\n",
    "        fi.close()\n",
    "        print(\"file closed\")\n",
    "except:\n",
    "    print(\"error\")"
   ]
  },
  {
   "cell_type": "markdown",
   "id": "c7ebeb08",
   "metadata": {},
   "source": [
    "### Raising Error"
   ]
  },
  {
   "cell_type": "code",
   "execution_count": 9,
   "id": "3418617d",
   "metadata": {},
   "outputs": [
    {
     "name": "stdout",
     "output_type": "stream",
     "text": [
      "Enter a number: 12\n",
      "the age is not valid\n"
     ]
    }
   ],
   "source": [
    "try:\n",
    "    num=int(input(\"Enter a number: \"))\n",
    "    if(num<18):\n",
    "        raise ValueError\n",
    "    else:\n",
    "        print(\"the age is valid\")\n",
    "except ValueError:\n",
    "    print(\"the age is not valid\")"
   ]
  },
  {
   "cell_type": "code",
   "execution_count": 11,
   "id": "a216ef24",
   "metadata": {},
   "outputs": [
    {
     "name": "stdout",
     "output_type": "stream",
     "text": [
      "Enter the number-34\n",
      "That is -ve number\n"
     ]
    }
   ],
   "source": [
    "try:\n",
    "    num=int(input(\"Enter the number\"))\n",
    "    if(num<=0):\n",
    "        raise ValueError(\"That is -ve number\")\n",
    "except ValueError as e:\n",
    "    print(e)"
   ]
  },
  {
   "cell_type": "code",
   "execution_count": null,
   "id": "20f77467",
   "metadata": {},
   "outputs": [],
   "source": []
  }
 ],
 "metadata": {
  "kernelspec": {
   "display_name": "Python 3",
   "language": "python",
   "name": "python3"
  },
  "language_info": {
   "codemirror_mode": {
    "name": "ipython",
    "version": 3
   },
   "file_extension": ".py",
   "mimetype": "text/x-python",
   "name": "python",
   "nbconvert_exporter": "python",
   "pygments_lexer": "ipython3",
   "version": "3.8.8"
  }
 },
 "nbformat": 4,
 "nbformat_minor": 5
}
