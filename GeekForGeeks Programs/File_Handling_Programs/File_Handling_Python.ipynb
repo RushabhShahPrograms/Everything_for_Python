{
 "cells": [
  {
   "cell_type": "code",
   "execution_count": 1,
   "id": "d3e85d5e",
   "metadata": {},
   "outputs": [
    {
     "name": "stdout",
     "output_type": "stream",
     "text": [
      "hello Everyone Welcome to this file\n",
      "\n",
      "Here you will get 23000 words of characters\n"
     ]
    }
   ],
   "source": [
    "#01 Read File Word By word\n",
    "\n",
    "f=open(\"hello.txt\",\"r\")\n",
    "print(f.read())"
   ]
  },
  {
   "cell_type": "code",
   "execution_count": 2,
   "id": "537b99e0",
   "metadata": {},
   "outputs": [
    {
     "name": "stdout",
     "output_type": "stream",
     "text": [
      "h\n",
      "e\n",
      "l\n",
      "l\n",
      "o\n",
      " \n",
      "E\n",
      "v\n",
      "e\n",
      "r\n",
      "y\n",
      "o\n",
      "n\n",
      "e\n",
      " \n",
      "W\n",
      "e\n",
      "l\n",
      "c\n",
      "o\n",
      "m\n",
      "e\n",
      " \n",
      "t\n",
      "o\n",
      " \n",
      "t\n",
      "h\n",
      "i\n",
      "s\n",
      " \n",
      "f\n",
      "i\n",
      "l\n",
      "e\n",
      "\n",
      "\n",
      "\n",
      "\n",
      "H\n",
      "e\n",
      "r\n",
      "e\n",
      " \n",
      "y\n",
      "o\n",
      "u\n",
      " \n",
      "w\n",
      "i\n",
      "l\n",
      "l\n",
      " \n",
      "g\n",
      "e\n",
      "t\n",
      " \n",
      "2\n",
      "3\n",
      "0\n",
      "0\n",
      "0\n",
      " \n",
      "w\n",
      "o\n",
      "r\n",
      "d\n",
      "s\n",
      " \n",
      "o\n",
      "f\n",
      " \n",
      "c\n",
      "h\n",
      "a\n",
      "r\n",
      "a\n",
      "c\n",
      "t\n",
      "e\n",
      "r\n",
      "s\n"
     ]
    }
   ],
   "source": [
    "#02 Read character by character from a file\n",
    "\n",
    "file=open('hello.txt','r')\n",
    "while 1:\n",
    "    char=file.read(1)\n",
    "    if not char:\n",
    "        break\n",
    "        \n",
    "    print(char)\n",
    "    \n",
    "file.close()"
   ]
  },
  {
   "cell_type": "code",
   "execution_count": 3,
   "id": "5698fb7f",
   "metadata": {},
   "outputs": [
    {
     "name": "stdout",
     "output_type": "stream",
     "text": [
      "Number of words in text file:  15\n",
      "Number of lines in text file:  3\n",
      "Number of characters in text file:  68\n",
      "Number of spaces in text file:  12\n"
     ]
    }
   ],
   "source": [
    "# 03 Get number of characters, words, \n",
    "# spaces and lines in a file\n",
    "\n",
    "def counter(fname):\n",
    "    num_words=0\n",
    "    num_lines=0\n",
    "    num_charc=0\n",
    "    num_spaces=0\n",
    "    \n",
    "    with open(fname,'r') as f:\n",
    "        for line in f:\n",
    "            num_lines+=1\n",
    "            word='Y'\n",
    "            \n",
    "            for letter in line:\n",
    "                if (letter!=' ' and word == 'Y'):\n",
    "                    num_words+=1\n",
    "                    word='N'\n",
    "                elif (letter==' '):\n",
    "                    num_spaces+=1\n",
    "                    word='Y'\n",
    "                \n",
    "                for i in letter:\n",
    "                    if(i!=\" \" and 1!=\"\\n\"):\n",
    "                        num_charc+=1\n",
    "                        \n",
    "    print(\"Number of words in text file: \",num_words)\n",
    "    print(\"Number of lines in text file: \",num_lines)\n",
    "    print(\"Number of characters in text file: \",num_charc)\n",
    "    print(\"Number of spaces in text file: \",num_spaces)\n",
    "    \n",
    "fname='hello.txt'\n",
    "try:\n",
    "    counter(fname)\n",
    "except:\n",
    "    print(\"File not Found\")"
   ]
  },
  {
   "cell_type": "code",
   "execution_count": 4,
   "id": "5be4eb99",
   "metadata": {},
   "outputs": [
    {
     "name": "stdout",
     "output_type": "stream",
     "text": [
      "The count of hello is 1\n",
      "The count of everyone is 1\n",
      "The count of welcome is 1\n",
      "The count of to is 1\n",
      "The count of this is 1\n",
      "The count of file is 1\n",
      "The count of here is 1\n",
      "The count of you is 1\n",
      "The count of will is 1\n",
      "The count of get is 1\n",
      "The count of 23000 is 1\n",
      "The count of words is 1\n",
      "The count of of is 1\n",
      "The count of characters is 1\n"
     ]
    }
   ],
   "source": [
    "# 04 Python program to Count the \n",
    "# Number of occurrences of a key-value pair in a text file\n",
    "\n",
    "f=open(\"hello.txt\",\"r\")\n",
    "d=dict()\n",
    "\n",
    "for res in f:\n",
    "    res=res.strip()\n",
    "    res=res.lower()\n",
    "    lines=res.split()\n",
    "    \n",
    "    for line in lines:\n",
    "        if line in d:\n",
    "            d[line]=d[line]+1\n",
    "        else:\n",
    "            d[line]=1\n",
    "f.close()\n",
    "\n",
    "for key in list(d.keys()):\n",
    "    print(\"The count of {} is {}\".format(key,d[key]))"
   ]
  },
  {
   "cell_type": "code",
   "execution_count": 6,
   "id": "cd39dfcf",
   "metadata": {},
   "outputs": [
    {
     "name": "stdout",
     "output_type": "stream",
     "text": [
      "you\n",
      "get\n"
     ]
    }
   ],
   "source": [
    "# 05 Finding 'n' character words in a text file\n",
    "\n",
    "count=1\n",
    "chrw=\"\"\n",
    "\n",
    "file=open(\"hello.txt\",'r')\n",
    "while 1:\n",
    "    sp=file.read(1)\n",
    "    if count<=3:\n",
    "        chrw+=sp\n",
    "        \n",
    "    if count>3:\n",
    "        if sp==\" \":\n",
    "            count=0\n",
    "            if len(chrw)>0:\n",
    "                print(chrw)\n",
    "                chrw=\"\"\n",
    "        elif sp!=\" \":\n",
    "            chrw=\"\"\n",
    "    count=count+1\n",
    "    \n",
    "    if not sp:\n",
    "        break\n",
    "        \n",
    "file.close()"
   ]
  },
  {
   "cell_type": "code",
   "execution_count": 7,
   "id": "43ffa156",
   "metadata": {},
   "outputs": [
    {
     "data": {
      "text/plain": [
       "'hello Everyone Welcome to this file\\n\\nHere you will get 23000 words of characters'"
      ]
     },
     "execution_count": 7,
     "metadata": {},
     "output_type": "execute_result"
    }
   ],
   "source": [
    "# 06 How to obtain the line \n",
    "# number in which given word is present using Python?\n",
    "\n",
    "df=open(\"hello.txt\")\n",
    "read=df.read()\n",
    "df.seek(0)\n",
    "read"
   ]
  },
  {
   "cell_type": "code",
   "execution_count": 9,
   "id": "7d8ab4ed",
   "metadata": {},
   "outputs": [
    {
     "name": "stdout",
     "output_type": "stream",
     "text": [
      "This is the number of lines in the file\n",
      "2\n"
     ]
    }
   ],
   "source": [
    "# 07 Count number of lines in a text file in Python\n",
    "\n",
    "file=open(\"hello.txt\",\"r\")\n",
    "Counter=0\n",
    "\n",
    "Content=file.read()\n",
    "colist=Content.split(\"\\n\")\n",
    "\n",
    "for i in colist:\n",
    "    if i:\n",
    "        Counter+=1\n",
    "        \n",
    "print(\"This is the number of lines in the file\")\n",
    "print(Counter)"
   ]
  },
  {
   "cell_type": "code",
   "execution_count": 10,
   "id": "360f91ff",
   "metadata": {},
   "outputs": [
    {
     "name": "stdout",
     "output_type": "stream",
     "text": [
      "hello Everyone Welcome to this file\n",
      "\n",
      "\n",
      "\n",
      "Here you will get 23000 words of characters\n"
     ]
    }
   ],
   "source": [
    "# 08 How to remove lines \n",
    "# starting with any prefix using Python\n",
    "\n",
    "file1=open(\"hello.txt\",\"r\")\n",
    "file2=open(\"hello2.txt\",\"w\")\n",
    "\n",
    "for line in file1.readlines():\n",
    "    if not (line.startswith('TextGenerator')):\n",
    "        print(line)\n",
    "        file2.write(line)\n",
    "        \n",
    "file2.close()\n",
    "file1.close()"
   ]
  },
  {
   "cell_type": "code",
   "execution_count": 11,
   "id": "8043ee4f",
   "metadata": {},
   "outputs": [],
   "source": [
    "# 09 Eliminating repeated lines from a file\n",
    "\n",
    "otfile=open(\"hello2.txt\",\"w\")\n",
    "itfile=open(\"hello.txt\",\"r\")\n",
    "lines=set()\n",
    "for line in itfile:\n",
    "    if line not in lines:\n",
    "        otfile.write(line)\n",
    "        lines.add(line)\n",
    "        \n",
    "itfile.close()\n",
    "otfile.close()"
   ]
  },
  {
   "cell_type": "code",
   "execution_count": 13,
   "id": "dc80e555",
   "metadata": {},
   "outputs": [
    {
     "name": "stdout",
     "output_type": "stream",
     "text": [
      "Something unexpected occurred!\n"
     ]
    }
   ],
   "source": [
    "# 10 Read List of Dictionaries from File\n",
    "\n",
    "import pickle\n",
    "  \n",
    "  \n",
    "try:\n",
    "    geeky_file = open('hello.txt', 'r')\n",
    "    dictionary_list = pickle.load(geeky_file)\n",
    "      \n",
    "    for d in dictionary_list:\n",
    "        print(d)\n",
    "    geeky_file.close()\n",
    "  \n",
    "except:\n",
    "    print(\"Something unexpected occurred!\")"
   ]
  },
  {
   "cell_type": "code",
   "execution_count": 15,
   "id": "de3adc5c",
   "metadata": {},
   "outputs": [
    {
     "name": "stdout",
     "output_type": "stream",
     "text": [
      "Enter the name of first file hello.txt\n",
      "Enter the name of second file hello2.txt\n",
      "content of first file before appending - hello Everyone Welcome to this file\n",
      "\n",
      "Here you will get 23000 words of characters\n",
      "content of second file before appending - hello Everyone Welcome to this file\n",
      "\n",
      "Here you will get 23000 words of characters\n",
      "content of first file after appending - hello Everyone Welcome to this file\n",
      "\n",
      "Here you will get 23000 words of charactershello Everyone Welcome to this file\n",
      "\n",
      "Here you will get 23000 words of characters\n",
      "content of second file after appending - hello Everyone Welcome to this file\n",
      "\n",
      "Here you will get 23000 words of characters\n"
     ]
    }
   ],
   "source": [
    "# 11 Append content of one text file to another\n",
    "\n",
    "# entering the file names\n",
    "firstfile = input(\"Enter the name of first file \")\n",
    "secondfile = input(\"Enter the name of second file \")\n",
    " \n",
    "# opening both files in read only mode to read initial contents\n",
    "f1 = open(firstfile, 'r')\n",
    "f2 = open(secondfile, 'r')\n",
    " \n",
    "# printing the contens of the file before appending\n",
    "print('content of first file before appending -', f1.read())\n",
    "print('content of second file before appending -', f2.read())\n",
    " \n",
    "# closing the files\n",
    "f1.close()\n",
    "f2.close()\n",
    " \n",
    "# opening first file in append mode and second file in read mode\n",
    "f1 = open(firstfile, 'a+')\n",
    "f2 = open(secondfile, 'r')\n",
    " \n",
    "# appending the contents of the second file to the first file\n",
    "f1.write(f2.read())\n",
    " \n",
    "# relocating the cursor of the files at the beginning\n",
    "f1.seek(0)\n",
    "f2.seek(0)\n",
    " \n",
    "# printing the contents of the files after appendng\n",
    "print('content of first file after appending -', f1.read())\n",
    "print('content of second file after appending -', f2.read())\n",
    " \n",
    "# closing the files\n",
    "f1.close()\n",
    "f2.close()"
   ]
  },
  {
   "cell_type": "code",
   "execution_count": 17,
   "id": "28785c4b",
   "metadata": {},
   "outputs": [
    {
     "name": "stdout",
     "output_type": "stream",
     "text": [
      "\n",
      "\n",
      "\n"
     ]
    }
   ],
   "source": [
    "# 12 copy odd lines of one file to other\n",
    "\n",
    "fn = open('hello.txt', 'r')\n",
    "  \n",
    "# open other file in write mode\n",
    "fn1 = open('hello2.txt', 'w')\n",
    "  \n",
    "# read the content of the file line by line\n",
    "cont = fn.readlines()\n",
    "type(cont)\n",
    "for i in range(0, len(cont)):\n",
    "    if(i % 2!= 0):\n",
    "        fn1.write(cont[i])\n",
    "    else:\n",
    "        pass\n",
    "\n",
    "# close the file\n",
    "fn1.close()\n",
    "  \n",
    "# open file in read mode\n",
    "fn1 = open('hello2.txt', 'r')\n",
    "  \n",
    "# read the content of the file\n",
    "cont1 = fn1.read()\n",
    "  \n",
    "# print the content of the file\n",
    "print(cont1)\n",
    "  \n",
    "# close all files\n",
    "fn.close()\n",
    "fn1.close()"
   ]
  },
  {
   "cell_type": "code",
   "execution_count": 18,
   "id": "e177b447",
   "metadata": {},
   "outputs": [],
   "source": [
    "#13 merge two files into a third file\n",
    "\n",
    "data = data2 = \"\"\n",
    "  \n",
    "# Reading data from file1\n",
    "with open('hello.txt') as fp:\n",
    "    data = fp.read()\n",
    "\n",
    "# Reading data from file2\n",
    "with open('hello2.txt') as fp:\n",
    "    data2 = fp.read()\n",
    "\n",
    "# Merging 2 files\n",
    "# To add the data of file2\n",
    "# from next line\n",
    "data += \"\\n\"\n",
    "data += data2\n",
    "  \n",
    "with open ('file3.txt', 'w') as fp:\n",
    "    fp.write(data)"
   ]
  },
  {
   "cell_type": "code",
   "execution_count": 19,
   "id": "66d3956b",
   "metadata": {},
   "outputs": [],
   "source": [
    "# 14 Reverse a single line of a text file\n",
    "\n",
    "f = open('hello.txt', 'r')\n",
    "  \n",
    "# Read the content of the\n",
    "# file and store it in a list\n",
    "lines = f.readlines()\n",
    "      \n",
    "# Close file\n",
    "f.close()\n",
    "  \n",
    "# User's choice\n",
    "choice = 1\n",
    "  \n",
    "# Split the line into words \n",
    "line = lines[choice].split()\n",
    "  \n",
    "# line is reversed\n",
    "Reversed = \" \".join(line[::-1])\n",
    "  \n",
    "# Updating the content of the\n",
    "# file\n",
    "lines.pop(choice)\n",
    "lines.insert(choice, Reversed)\n",
    "  \n",
    "# Open file in write mode\n",
    "u = open('hello.txt', 'w')\n",
    "  \n",
    "# Write the new content in file\n",
    "# and note, it is overwritten \n",
    "u.writelines(lines)\n",
    "u.close()"
   ]
  },
  {
   "cell_type": "code",
   "execution_count": 1,
   "id": "b2dba73f",
   "metadata": {},
   "outputs": [],
   "source": [
    "# 15 reverse the \n",
    "# content of a file and store it in another file\n",
    "\n",
    "f1 = open(\"hello2.txt\", \"w\")\n",
    "  \n",
    "# Open the input file and get \n",
    "# the content into a variable data\n",
    "with open(\"hello.txt\", \"r\") as myfile:\n",
    "    data = myfile.read()\n",
    "\n",
    "# For Full Reversing we will store the \n",
    "# value of data into new variable data_1 \n",
    "# in a reverse order using [start: end: step],\n",
    "# where step when passed -1 will reverse \n",
    "# the string\n",
    "data_1 = data[::-1]\n",
    "  \n",
    "# Now we will write the fully reverse \n",
    "# data in the output1 file using \n",
    "# following command\n",
    "f1.write(data_1)\n",
    "\n",
    "f1.close()"
   ]
  },
  {
   "cell_type": "code",
   "execution_count": 2,
   "id": "c4ada40d",
   "metadata": {},
   "outputs": [
    {
     "name": "stdout",
     "output_type": "stream",
     "text": [
      "hello Everyone Welcome to this file\n",
      "Here you will get 23000 words of charactershello Everyone Welcome to this file\n",
      "\n",
      "Here you will get 23000 words of characters\n"
     ]
    }
   ],
   "source": [
    "# 16 Reverse the Content of a File using Stack\n",
    "\n",
    "class Stack:\n",
    "     \n",
    "    def __init__(self):\n",
    "         \n",
    "        # Creating an empty stack\n",
    "        self._arr = []\n",
    "         \n",
    "    # Creating push() method.\n",
    "    def push(self, val):\n",
    "        self._arr.append(val)\n",
    "  \n",
    "    def is_empty(self):\n",
    "         \n",
    "        # Returns True if empty\n",
    "        return len(self._arr) == 0\n",
    " \n",
    "    # Creating Pop method.\n",
    "    def pop(self):\n",
    "         \n",
    "        if self.is_empty():\n",
    "            print(\"Stack is empty\")\n",
    "            return\n",
    "         \n",
    "        return self._arr.pop()\n",
    "\n",
    "# Creating a function which will reverse\n",
    "# the lines of a file and Overwrites the\n",
    "# given file with its contents line-by-line\n",
    "# reversed\n",
    "def reverse_file(filename):\n",
    "      \n",
    "    S = Stack()\n",
    "    original = open(filename)\n",
    "     \n",
    "    for line in original:\n",
    "        S.push(line.rstrip(\"\\n\"))\n",
    "     \n",
    "    original.close()\n",
    "      \n",
    "      \n",
    "    output = open(filename, 'w')\n",
    "     \n",
    "    while not S.is_empty():\n",
    "        output.write(S.pop()+\"\\n\")\n",
    "     \n",
    "    output.close()\n",
    " \n",
    " \n",
    "# Driver Code\n",
    "filename = \"hello.txt\"\n",
    " \n",
    "# Calling the reverse_file function\n",
    "reverse_file(filename)\n",
    "  \n",
    "# Now reading the content of the file\n",
    "with open(filename) as file:\n",
    "        for f in file.readlines():\n",
    "            print(f, end =\"\")"
   ]
  },
  {
   "cell_type": "code",
   "execution_count": null,
   "id": "f2acd9f4",
   "metadata": {},
   "outputs": [],
   "source": []
  }
 ],
 "metadata": {
  "kernelspec": {
   "display_name": "Python 3",
   "language": "python",
   "name": "python3"
  },
  "language_info": {
   "codemirror_mode": {
    "name": "ipython",
    "version": 3
   },
   "file_extension": ".py",
   "mimetype": "text/x-python",
   "name": "python",
   "nbconvert_exporter": "python",
   "pygments_lexer": "ipython3",
   "version": "3.8.8"
  }
 },
 "nbformat": 4,
 "nbformat_minor": 5
}
